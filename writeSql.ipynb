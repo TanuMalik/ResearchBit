{
 "cells": [
  {
   "cell_type": "code",
   "execution_count": 1,
   "metadata": {
    "collapsed": false
   },
   "outputs": [
    {
     "name": "stdout",
     "output_type": "stream",
     "text": [
      "Opened database successfully\n"
     ]
    }
   ],
   "source": [
    "import sqlite3\n",
    "\n",
    "conn = sqlite3.connect('test.db')\n",
    "\n",
    "print \"Opened database successfully\";"
   ]
  },
  {
   "cell_type": "code",
   "execution_count": 2,
   "metadata": {
    "collapsed": false
   },
   "outputs": [
    {
     "name": "stdout",
     "output_type": "stream",
     "text": [
      "Opened database successfully\n",
      "Table created successfully\n"
     ]
    }
   ],
   "source": [
    "import sqlite3\n",
    "\n",
    "conn = sqlite3.connect('test.db')\n",
    "print \"Opened database successfully\";\n",
    "\n",
    "conn.execute('''DROP TABLE IF EXISTS TOPIC;''')\n",
    "conn.execute('''CREATE TABLE TOPIC\n",
    "       (TOPIC_ID INT PRIMARY KEY     NOT NULL,\n",
    "       WORD1        CHAR(50),\n",
    "       WORD2        CHAR(50),\n",
    "       WORD3        CHAR(50),\n",
    "       WORD4        CHAR(50),\n",
    "       WORD5        CHAR(50),\n",
    "       WORD6        CHAR(50),\n",
    "       WORD7        CHAR(50),\n",
    "       WORD8        CHAR(50),\n",
    "       WORD9        CHAR(50),\n",
    "       WORD10        CHAR(50));''')\n",
    "print \"Table created successfully\";\n",
    "\n",
    "conn.close()"
   ]
  },
  {
   "cell_type": "code",
   "execution_count": 54,
   "metadata": {
    "collapsed": false
   },
   "outputs": [],
   "source": [
    "import numpy as np\n",
    "import pandas as pd\n"
   ]
  },
  {
   "cell_type": "code",
   "execution_count": null,
   "metadata": {
    "collapsed": false
   },
   "outputs": [],
   "source": [
    "topic = pd.read_csv(\"/Users/lorraine/Uchicago/2015_Summer/CI/Tool/JGibbLDA-v.1.0/abstracts/model-final.twords\",header = None)"
   ]
  },
  {
   "cell_type": "code",
   "execution_count": 55,
   "metadata": {
    "collapsed": false
   },
   "outputs": [
    {
     "name": "stdout",
     "output_type": "stream",
     "text": [
      "Opened database successfully\n",
      "Records created successfully\n"
     ]
    }
   ],
   "source": [
    "import sqlite3\n",
    "\n",
    "conn = sqlite3.connect('test.db')\n",
    "print \"Opened database successfully\";\n",
    "\n",
    "word = []\n",
    "for i in range(topic.shape[0]):\n",
    "    s = str(topic[i:i+1])\n",
    "    s = s.strip()\n",
    "    if(i % 11== 0):\n",
    "        topicid = s[s.find(\"th\")-1:s.find(\"th\")] \n",
    "    else:\n",
    "        s = s.split(\"\\n\")[1].split(\"\\\\t\")[1].split(\" \")[0]\n",
    "        word.append(s)\n",
    "    if((i % 11 == 10) & (i!=0)):\n",
    "        #print i\n",
    "        #print word\n",
    "        conn.execute(\"INSERT INTO TOPIC VALUES (?, ?, ?, ?, ?, ?, ?, ?, ?, ?, ?)\", \n",
    "             (topicid, word[0], word[1], word[2], word[3], word[4], word[5], word[6], word[7],  word[8], word[9]))\n",
    "        word = []\n",
    "\n",
    "conn.commit()\n",
    "print \"Records created successfully\";\n",
    "conn.close()"
   ]
  },
  {
   "cell_type": "code",
   "execution_count": 100,
   "metadata": {
    "collapsed": false
   },
   "outputs": [
    {
     "name": "stdout",
     "output_type": "stream",
     "text": [
      "Opened database successfully\n"
     ]
    }
   ],
   "source": [
    "import sqlite3\n",
    "\n",
    "conn = sqlite3.connect('recomd.db')\n",
    "\n",
    "print \"Opened database successfully\";"
   ]
  },
  {
   "cell_type": "code",
   "execution_count": 101,
   "metadata": {
    "collapsed": false
   },
   "outputs": [
    {
     "name": "stdout",
     "output_type": "stream",
     "text": [
      "Opened database successfully\n",
      "Table created successfully\n"
     ]
    }
   ],
   "source": [
    "import sqlite3\n",
    "\n",
    "conn = sqlite3.connect('recomd.db')\n",
    "print \"Opened database successfully\";\n",
    "\n",
    "conn.execute('''DROP TABLE IF EXISTS RECMDLIST;''')\n",
    "conn.execute('''CREATE TABLE RECMDLIST\n",
    "       (ID INT PRIMARY KEY     NOT NULL,\n",
    "       TARGET_PERSON     CHAR(50),\n",
    "       PERSON1        CHAR(50),\n",
    "       PERSON2        CHAR(50),\n",
    "       PERSON3        CHAR(50),\n",
    "       PERSON4        CHAR(50),\n",
    "       PERSON5        CHAR(50),\n",
    "       PERSON6        CHAR(50),\n",
    "       PERSON7        CHAR(50),\n",
    "       PERSON8        CHAR(50),\n",
    "       PERSON9        CHAR(50),\n",
    "       PERSON10        CHAR(50));''')\n",
    "print \"Table created successfully\";\n",
    "\n",
    "conn.close()"
   ]
  },
  {
   "cell_type": "code",
   "execution_count": 102,
   "metadata": {
    "collapsed": true
   },
   "outputs": [],
   "source": [
    "import os"
   ]
  },
  {
   "cell_type": "code",
   "execution_count": 103,
   "metadata": {
    "collapsed": true
   },
   "outputs": [],
   "source": [
    "def iter_docs(topdir):\n",
    "    result = []\n",
    "    for fn in os.listdir(topdir):\n",
    "        if(fn.find('.txt')!=-1):\n",
    "            fin = open(os.path.join(topdir, fn), 'rb')\n",
    "            text = fin.read()\n",
    "            #print fn\n",
    "            #print text\n",
    "            array = text.split('\\n')\n",
    "            #print array\n",
    "            result.append(array)\n",
    "            fin.close()\n",
    "    return result"
   ]
  },
  {
   "cell_type": "code",
   "execution_count": 104,
   "metadata": {
    "collapsed": false,
    "scrolled": false
   },
   "outputs": [
    {
     "name": "stdout",
     "output_type": "stream",
     "text": [
      "['Torbert, Chris', 'Chandler, Cyndy', 'Peterson, Fox', 'Hou, Chung-Yi', 'Ramdeen, Sarah', 'Herbert, Aaron', 'Cosic, Sandra', 'Walter, Jeff', 'Scott, Soren', 'Stott, Don', '']\n"
     ]
    }
   ],
   "source": [
    "result = iter_docs(\"/Users/lorraine/Uchicago/2015_Summer/CI/Recommendation/RecommendationResult/TFModelResult\")\n",
    "print result[26]"
   ]
  },
  {
   "cell_type": "code",
   "execution_count": 105,
   "metadata": {
    "collapsed": false
   },
   "outputs": [
    {
     "name": "stdout",
     "output_type": "stream",
     "text": [
      "Opened database successfully\n",
      "Records created successfully\n"
     ]
    }
   ],
   "source": [
    "import sqlite3\n",
    "\n",
    "conn = sqlite3.connect('recomd.db')\n",
    "print \"Opened database successfully\";\n",
    "\n",
    "n = 1 \n",
    "#print result[30]\n",
    "for i in range(len(result)):\n",
    "    #print result[i]\n",
    "    #print n\n",
    "    conn.execute(\"INSERT INTO RECMDLIST VALUES (?, ?, ?, ?, ?, ?, ?, ?, ?, ?, ?, ?)\", \n",
    "             (n, result[i][0], result[i][1], result[i][2], result[i][3], result[i][4], result[i][5], result[i][6], result[i][7],  result[i][8], result[i][9], result[i][10]))\n",
    "    n = n+1\n",
    "\n",
    "conn.commit()\n",
    "print \"Records created successfully\";\n",
    "conn.close()"
   ]
  },
  {
   "cell_type": "code",
   "execution_count": null,
   "metadata": {
    "collapsed": true
   },
   "outputs": [],
   "source": []
  },
  {
   "cell_type": "code",
   "execution_count": null,
   "metadata": {
    "collapsed": true
   },
   "outputs": [],
   "source": []
  }
 ],
 "metadata": {
  "kernelspec": {
   "display_name": "Python 2",
   "language": "python",
   "name": "python2"
  },
  "language_info": {
   "codemirror_mode": {
    "name": "ipython",
    "version": 2
   },
   "file_extension": ".py",
   "mimetype": "text/x-python",
   "name": "python",
   "nbconvert_exporter": "python",
   "pygments_lexer": "ipython2",
   "version": "2.7.6"
  }
 },
 "nbformat": 4,
 "nbformat_minor": 0
}
